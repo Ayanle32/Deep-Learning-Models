{
 "cells": [
  {
   "cell_type": "code",
   "execution_count": 83,
   "id": "bd2f92af",
   "metadata": {},
   "outputs": [],
   "source": [
    "import pandas as pd\n",
    "import numpy as np"
   ]
  },
  {
   "cell_type": "markdown",
   "id": "be291282",
   "metadata": {},
   "source": [
    "# Importing Data"
   ]
  },
  {
   "cell_type": "code",
   "execution_count": 84,
   "id": "eab869fa",
   "metadata": {},
   "outputs": [],
   "source": [
    "df = pd.read_csv('S&P.csv')"
   ]
  },
  {
   "cell_type": "code",
   "execution_count": 85,
   "id": "7fa66f37",
   "metadata": {},
   "outputs": [
    {
     "data": {
      "text/html": [
       "<div>\n",
       "<style scoped>\n",
       "    .dataframe tbody tr th:only-of-type {\n",
       "        vertical-align: middle;\n",
       "    }\n",
       "\n",
       "    .dataframe tbody tr th {\n",
       "        vertical-align: top;\n",
       "    }\n",
       "\n",
       "    .dataframe thead th {\n",
       "        text-align: right;\n",
       "    }\n",
       "</style>\n",
       "<table border=\"1\" class=\"dataframe\">\n",
       "  <thead>\n",
       "    <tr style=\"text-align: right;\">\n",
       "      <th></th>\n",
       "      <th>Date</th>\n",
       "      <th>Open</th>\n",
       "      <th>High</th>\n",
       "      <th>Low</th>\n",
       "      <th>Close</th>\n",
       "      <th>Adj Close</th>\n",
       "      <th>Volume</th>\n",
       "    </tr>\n",
       "  </thead>\n",
       "  <tbody>\n",
       "    <tr>\n",
       "      <th>0</th>\n",
       "      <td>1927-12-30</td>\n",
       "      <td>17.660000</td>\n",
       "      <td>17.660000</td>\n",
       "      <td>17.660000</td>\n",
       "      <td>17.660000</td>\n",
       "      <td>17.660000</td>\n",
       "      <td>0</td>\n",
       "    </tr>\n",
       "    <tr>\n",
       "      <th>1</th>\n",
       "      <td>1928-01-03</td>\n",
       "      <td>17.760000</td>\n",
       "      <td>17.760000</td>\n",
       "      <td>17.760000</td>\n",
       "      <td>17.760000</td>\n",
       "      <td>17.760000</td>\n",
       "      <td>0</td>\n",
       "    </tr>\n",
       "    <tr>\n",
       "      <th>2</th>\n",
       "      <td>1928-01-04</td>\n",
       "      <td>17.719999</td>\n",
       "      <td>17.719999</td>\n",
       "      <td>17.719999</td>\n",
       "      <td>17.719999</td>\n",
       "      <td>17.719999</td>\n",
       "      <td>0</td>\n",
       "    </tr>\n",
       "    <tr>\n",
       "      <th>3</th>\n",
       "      <td>1928-01-05</td>\n",
       "      <td>17.549999</td>\n",
       "      <td>17.549999</td>\n",
       "      <td>17.549999</td>\n",
       "      <td>17.549999</td>\n",
       "      <td>17.549999</td>\n",
       "      <td>0</td>\n",
       "    </tr>\n",
       "    <tr>\n",
       "      <th>4</th>\n",
       "      <td>1928-01-06</td>\n",
       "      <td>17.660000</td>\n",
       "      <td>17.660000</td>\n",
       "      <td>17.660000</td>\n",
       "      <td>17.660000</td>\n",
       "      <td>17.660000</td>\n",
       "      <td>0</td>\n",
       "    </tr>\n",
       "  </tbody>\n",
       "</table>\n",
       "</div>"
      ],
      "text/plain": [
       "         Date       Open       High        Low      Close  Adj Close  Volume\n",
       "0  1927-12-30  17.660000  17.660000  17.660000  17.660000  17.660000       0\n",
       "1  1928-01-03  17.760000  17.760000  17.760000  17.760000  17.760000       0\n",
       "2  1928-01-04  17.719999  17.719999  17.719999  17.719999  17.719999       0\n",
       "3  1928-01-05  17.549999  17.549999  17.549999  17.549999  17.549999       0\n",
       "4  1928-01-06  17.660000  17.660000  17.660000  17.660000  17.660000       0"
      ]
     },
     "execution_count": 85,
     "metadata": {},
     "output_type": "execute_result"
    }
   ],
   "source": [
    "df.head()"
   ]
  },
  {
   "cell_type": "code",
   "execution_count": 86,
   "id": "d3672099",
   "metadata": {},
   "outputs": [],
   "source": [
    "df = df[-3652:] # considering last 20 years"
   ]
  },
  {
   "cell_type": "code",
   "execution_count": 87,
   "id": "27af2cbc",
   "metadata": {},
   "outputs": [
    {
     "data": {
      "text/html": [
       "<div>\n",
       "<style scoped>\n",
       "    .dataframe tbody tr th:only-of-type {\n",
       "        vertical-align: middle;\n",
       "    }\n",
       "\n",
       "    .dataframe tbody tr th {\n",
       "        vertical-align: top;\n",
       "    }\n",
       "\n",
       "    .dataframe thead th {\n",
       "        text-align: right;\n",
       "    }\n",
       "</style>\n",
       "<table border=\"1\" class=\"dataframe\">\n",
       "  <thead>\n",
       "    <tr style=\"text-align: right;\">\n",
       "      <th></th>\n",
       "      <th>Date</th>\n",
       "      <th>Open</th>\n",
       "      <th>High</th>\n",
       "      <th>Low</th>\n",
       "      <th>Close</th>\n",
       "      <th>Adj Close</th>\n",
       "      <th>Volume</th>\n",
       "    </tr>\n",
       "  </thead>\n",
       "  <tbody>\n",
       "    <tr>\n",
       "      <th>20564</th>\n",
       "      <td>2009-11-19</td>\n",
       "      <td>1106.439941</td>\n",
       "      <td>1106.439941</td>\n",
       "      <td>1088.400024</td>\n",
       "      <td>1094.900024</td>\n",
       "      <td>1094.900024</td>\n",
       "      <td>4178030000</td>\n",
       "    </tr>\n",
       "    <tr>\n",
       "      <th>20565</th>\n",
       "      <td>2009-11-20</td>\n",
       "      <td>1094.660034</td>\n",
       "      <td>1094.660034</td>\n",
       "      <td>1086.810059</td>\n",
       "      <td>1091.380005</td>\n",
       "      <td>1091.380005</td>\n",
       "      <td>3751230000</td>\n",
       "    </tr>\n",
       "    <tr>\n",
       "      <th>20566</th>\n",
       "      <td>2009-11-23</td>\n",
       "      <td>1094.859985</td>\n",
       "      <td>1112.380005</td>\n",
       "      <td>1094.859985</td>\n",
       "      <td>1106.239990</td>\n",
       "      <td>1106.239990</td>\n",
       "      <td>3827920000</td>\n",
       "    </tr>\n",
       "    <tr>\n",
       "      <th>20567</th>\n",
       "      <td>2009-11-24</td>\n",
       "      <td>1105.829956</td>\n",
       "      <td>1107.560059</td>\n",
       "      <td>1097.630005</td>\n",
       "      <td>1105.650024</td>\n",
       "      <td>1105.650024</td>\n",
       "      <td>3700820000</td>\n",
       "    </tr>\n",
       "    <tr>\n",
       "      <th>20568</th>\n",
       "      <td>2009-11-25</td>\n",
       "      <td>1106.489990</td>\n",
       "      <td>1111.180054</td>\n",
       "      <td>1104.750000</td>\n",
       "      <td>1110.630005</td>\n",
       "      <td>1110.630005</td>\n",
       "      <td>3036350000</td>\n",
       "    </tr>\n",
       "    <tr>\n",
       "      <th>...</th>\n",
       "      <td>...</td>\n",
       "      <td>...</td>\n",
       "      <td>...</td>\n",
       "      <td>...</td>\n",
       "      <td>...</td>\n",
       "      <td>...</td>\n",
       "      <td>...</td>\n",
       "    </tr>\n",
       "    <tr>\n",
       "      <th>24211</th>\n",
       "      <td>2024-05-20</td>\n",
       "      <td>5305.350098</td>\n",
       "      <td>5325.319824</td>\n",
       "      <td>5302.399902</td>\n",
       "      <td>5308.129883</td>\n",
       "      <td>5308.129883</td>\n",
       "      <td>3420100000</td>\n",
       "    </tr>\n",
       "    <tr>\n",
       "      <th>24212</th>\n",
       "      <td>2024-05-21</td>\n",
       "      <td>5298.689941</td>\n",
       "      <td>5324.319824</td>\n",
       "      <td>5297.870117</td>\n",
       "      <td>5321.410156</td>\n",
       "      <td>5321.410156</td>\n",
       "      <td>3662240000</td>\n",
       "    </tr>\n",
       "    <tr>\n",
       "      <th>24213</th>\n",
       "      <td>2024-05-22</td>\n",
       "      <td>5319.279785</td>\n",
       "      <td>5323.180176</td>\n",
       "      <td>5286.009766</td>\n",
       "      <td>5307.009766</td>\n",
       "      <td>5307.009766</td>\n",
       "      <td>3847130000</td>\n",
       "    </tr>\n",
       "    <tr>\n",
       "      <th>24214</th>\n",
       "      <td>2024-05-23</td>\n",
       "      <td>5340.259766</td>\n",
       "      <td>5341.879883</td>\n",
       "      <td>5256.930176</td>\n",
       "      <td>5267.839844</td>\n",
       "      <td>5267.839844</td>\n",
       "      <td>3869520000</td>\n",
       "    </tr>\n",
       "    <tr>\n",
       "      <th>24215</th>\n",
       "      <td>2024-05-24</td>\n",
       "      <td>5281.450195</td>\n",
       "      <td>5311.649902</td>\n",
       "      <td>5278.390137</td>\n",
       "      <td>5304.720215</td>\n",
       "      <td>5304.720215</td>\n",
       "      <td>3005510000</td>\n",
       "    </tr>\n",
       "  </tbody>\n",
       "</table>\n",
       "<p>3652 rows × 7 columns</p>\n",
       "</div>"
      ],
      "text/plain": [
       "             Date         Open         High          Low        Close  \\\n",
       "20564  2009-11-19  1106.439941  1106.439941  1088.400024  1094.900024   \n",
       "20565  2009-11-20  1094.660034  1094.660034  1086.810059  1091.380005   \n",
       "20566  2009-11-23  1094.859985  1112.380005  1094.859985  1106.239990   \n",
       "20567  2009-11-24  1105.829956  1107.560059  1097.630005  1105.650024   \n",
       "20568  2009-11-25  1106.489990  1111.180054  1104.750000  1110.630005   \n",
       "...           ...          ...          ...          ...          ...   \n",
       "24211  2024-05-20  5305.350098  5325.319824  5302.399902  5308.129883   \n",
       "24212  2024-05-21  5298.689941  5324.319824  5297.870117  5321.410156   \n",
       "24213  2024-05-22  5319.279785  5323.180176  5286.009766  5307.009766   \n",
       "24214  2024-05-23  5340.259766  5341.879883  5256.930176  5267.839844   \n",
       "24215  2024-05-24  5281.450195  5311.649902  5278.390137  5304.720215   \n",
       "\n",
       "         Adj Close      Volume  \n",
       "20564  1094.900024  4178030000  \n",
       "20565  1091.380005  3751230000  \n",
       "20566  1106.239990  3827920000  \n",
       "20567  1105.650024  3700820000  \n",
       "20568  1110.630005  3036350000  \n",
       "...            ...         ...  \n",
       "24211  5308.129883  3420100000  \n",
       "24212  5321.410156  3662240000  \n",
       "24213  5307.009766  3847130000  \n",
       "24214  5267.839844  3869520000  \n",
       "24215  5304.720215  3005510000  \n",
       "\n",
       "[3652 rows x 7 columns]"
      ]
     },
     "execution_count": 87,
     "metadata": {},
     "output_type": "execute_result"
    }
   ],
   "source": [
    "df"
   ]
  },
  {
   "cell_type": "markdown",
   "id": "93336300",
   "metadata": {},
   "source": [
    "# Summary Statistics"
   ]
  },
  {
   "cell_type": "code",
   "execution_count": 88,
   "id": "a99e5dae",
   "metadata": {},
   "outputs": [
    {
     "data": {
      "text/html": [
       "<div>\n",
       "<style scoped>\n",
       "    .dataframe tbody tr th:only-of-type {\n",
       "        vertical-align: middle;\n",
       "    }\n",
       "\n",
       "    .dataframe tbody tr th {\n",
       "        vertical-align: top;\n",
       "    }\n",
       "\n",
       "    .dataframe thead th {\n",
       "        text-align: right;\n",
       "    }\n",
       "</style>\n",
       "<table border=\"1\" class=\"dataframe\">\n",
       "  <thead>\n",
       "    <tr style=\"text-align: right;\">\n",
       "      <th></th>\n",
       "      <th>Open</th>\n",
       "      <th>High</th>\n",
       "      <th>Low</th>\n",
       "      <th>Close</th>\n",
       "      <th>Adj Close</th>\n",
       "      <th>Volume</th>\n",
       "    </tr>\n",
       "  </thead>\n",
       "  <tbody>\n",
       "    <tr>\n",
       "      <th>count</th>\n",
       "      <td>3652.000000</td>\n",
       "      <td>3652.000000</td>\n",
       "      <td>3652.000000</td>\n",
       "      <td>3652.000000</td>\n",
       "      <td>3652.000000</td>\n",
       "      <td>3.652000e+03</td>\n",
       "    </tr>\n",
       "    <tr>\n",
       "      <th>mean</th>\n",
       "      <td>2593.031937</td>\n",
       "      <td>2607.001898</td>\n",
       "      <td>2578.116903</td>\n",
       "      <td>2593.600000</td>\n",
       "      <td>2593.600000</td>\n",
       "      <td>3.942148e+09</td>\n",
       "    </tr>\n",
       "    <tr>\n",
       "      <th>std</th>\n",
       "      <td>1137.867697</td>\n",
       "      <td>1144.097329</td>\n",
       "      <td>1131.418780</td>\n",
       "      <td>1138.039252</td>\n",
       "      <td>1138.039252</td>\n",
       "      <td>9.559919e+08</td>\n",
       "    </tr>\n",
       "    <tr>\n",
       "      <th>min</th>\n",
       "      <td>1027.650024</td>\n",
       "      <td>1032.949951</td>\n",
       "      <td>1010.909973</td>\n",
       "      <td>1022.580017</td>\n",
       "      <td>1022.580017</td>\n",
       "      <td>1.025000e+09</td>\n",
       "    </tr>\n",
       "    <tr>\n",
       "      <th>25%</th>\n",
       "      <td>1651.777466</td>\n",
       "      <td>1658.972504</td>\n",
       "      <td>1644.495025</td>\n",
       "      <td>1652.342468</td>\n",
       "      <td>1652.342468</td>\n",
       "      <td>3.369995e+09</td>\n",
       "    </tr>\n",
       "    <tr>\n",
       "      <th>50%</th>\n",
       "      <td>2340.885009</td>\n",
       "      <td>2350.149903</td>\n",
       "      <td>2325.599976</td>\n",
       "      <td>2341.890014</td>\n",
       "      <td>2341.890014</td>\n",
       "      <td>3.788830e+09</td>\n",
       "    </tr>\n",
       "    <tr>\n",
       "      <th>75%</th>\n",
       "      <td>3436.587463</td>\n",
       "      <td>3450.592529</td>\n",
       "      <td>3413.682434</td>\n",
       "      <td>3432.350036</td>\n",
       "      <td>3432.350036</td>\n",
       "      <td>4.309638e+09</td>\n",
       "    </tr>\n",
       "    <tr>\n",
       "      <th>max</th>\n",
       "      <td>5340.259766</td>\n",
       "      <td>5341.879883</td>\n",
       "      <td>5302.399902</td>\n",
       "      <td>5321.410156</td>\n",
       "      <td>5321.410156</td>\n",
       "      <td>1.061781e+10</td>\n",
       "    </tr>\n",
       "  </tbody>\n",
       "</table>\n",
       "</div>"
      ],
      "text/plain": [
       "              Open         High          Low        Close    Adj Close  \\\n",
       "count  3652.000000  3652.000000  3652.000000  3652.000000  3652.000000   \n",
       "mean   2593.031937  2607.001898  2578.116903  2593.600000  2593.600000   \n",
       "std    1137.867697  1144.097329  1131.418780  1138.039252  1138.039252   \n",
       "min    1027.650024  1032.949951  1010.909973  1022.580017  1022.580017   \n",
       "25%    1651.777466  1658.972504  1644.495025  1652.342468  1652.342468   \n",
       "50%    2340.885009  2350.149903  2325.599976  2341.890014  2341.890014   \n",
       "75%    3436.587463  3450.592529  3413.682434  3432.350036  3432.350036   \n",
       "max    5340.259766  5341.879883  5302.399902  5321.410156  5321.410156   \n",
       "\n",
       "             Volume  \n",
       "count  3.652000e+03  \n",
       "mean   3.942148e+09  \n",
       "std    9.559919e+08  \n",
       "min    1.025000e+09  \n",
       "25%    3.369995e+09  \n",
       "50%    3.788830e+09  \n",
       "75%    4.309638e+09  \n",
       "max    1.061781e+10  "
      ]
     },
     "execution_count": 88,
     "metadata": {},
     "output_type": "execute_result"
    }
   ],
   "source": [
    "df.describe()"
   ]
  },
  {
   "cell_type": "code",
   "execution_count": 89,
   "id": "54c5ea5e",
   "metadata": {},
   "outputs": [
    {
     "name": "stdout",
     "output_type": "stream",
     "text": [
      "<class 'pandas.core.frame.DataFrame'>\n",
      "RangeIndex: 3652 entries, 20564 to 24215\n",
      "Data columns (total 7 columns):\n",
      " #   Column     Non-Null Count  Dtype  \n",
      "---  ------     --------------  -----  \n",
      " 0   Date       3652 non-null   object \n",
      " 1   Open       3652 non-null   float64\n",
      " 2   High       3652 non-null   float64\n",
      " 3   Low        3652 non-null   float64\n",
      " 4   Close      3652 non-null   float64\n",
      " 5   Adj Close  3652 non-null   float64\n",
      " 6   Volume     3652 non-null   int64  \n",
      "dtypes: float64(5), int64(1), object(1)\n",
      "memory usage: 199.8+ KB\n"
     ]
    }
   ],
   "source": [
    "df.info()"
   ]
  },
  {
   "cell_type": "code",
   "execution_count": 90,
   "id": "0c88642e",
   "metadata": {},
   "outputs": [],
   "source": [
    "df['Date'] = pd.to_datetime(df['Date'])"
   ]
  },
  {
   "cell_type": "code",
   "execution_count": 91,
   "id": "91738bec",
   "metadata": {},
   "outputs": [
    {
     "name": "stdout",
     "output_type": "stream",
     "text": [
      "<class 'pandas.core.frame.DataFrame'>\n",
      "RangeIndex: 3652 entries, 20564 to 24215\n",
      "Data columns (total 7 columns):\n",
      " #   Column     Non-Null Count  Dtype         \n",
      "---  ------     --------------  -----         \n",
      " 0   Date       3652 non-null   datetime64[ns]\n",
      " 1   Open       3652 non-null   float64       \n",
      " 2   High       3652 non-null   float64       \n",
      " 3   Low        3652 non-null   float64       \n",
      " 4   Close      3652 non-null   float64       \n",
      " 5   Adj Close  3652 non-null   float64       \n",
      " 6   Volume     3652 non-null   int64         \n",
      "dtypes: datetime64[ns](1), float64(5), int64(1)\n",
      "memory usage: 199.8 KB\n"
     ]
    }
   ],
   "source": [
    "df.info()"
   ]
  },
  {
   "cell_type": "markdown",
   "id": "e401e0ea",
   "metadata": {},
   "source": [
    "# Data Visualisation"
   ]
  },
  {
   "cell_type": "code",
   "execution_count": 92,
   "id": "d0eced85",
   "metadata": {},
   "outputs": [],
   "source": [
    "import matplotlib.pyplot as plt"
   ]
  },
  {
   "cell_type": "code",
   "execution_count": 93,
   "id": "37a9633c",
   "metadata": {},
   "outputs": [
    {
     "data": {
      "image/png": "[encoded data removed]",
      "text/plain": [
       "<Figure size 1008x504 with 1 Axes>"
      ]
     },
     "metadata": {
      "needs_background": "light"
     },
     "output_type": "display_data"
    }
   ],
   "source": [
    "fig, ax = plt.subplots(1,1, figsize=(14, 7))\n",
    "ax.plot(df['Date'], df['Close'], c='g')\n",
    "ax.set_xlabel('Date', fontsize=14)\n",
    "ax.set_ylabel('Closing Price', fontsize=14)\n",
    "ax.set_title('Closing Price of S&P 500 by Date', fontsize=18)\n",
    "plt.xticks(fontsize=12)\n",
    "plt.yticks(fontsize=12)\n",
    "plt.show()"
   ]
  },
  {
   "cell_type": "markdown",
   "id": "d50af2e1",
   "metadata": {},
   "source": [
    "# Creating Sequences"
   ]
  },
  {
   "cell_type": "code",
   "execution_count": 94,
   "id": "4da84b66",
   "metadata": {},
   "outputs": [],
   "source": [
    "def create_sequences(data, n_steps, n_future):\n",
    "    X = []\n",
    "    y = []\n",
    "    for i in range(len(data) - n_steps - n_future + 1):\n",
    "        X.append(data[i:i+n_steps])\n",
    "        y.append(data[i+n_steps: i+n_steps+n_future])\n",
    "    return np.array(X), np.array(y)"
   ]
  },
  {
   "cell_type": "code",
   "execution_count": 95,
   "id": "e9141fd7",
   "metadata": {},
   "outputs": [],
   "source": [
    "# checking if our function works\n",
    "\n",
    "arr = np.array([1, 2, 3, 4, 5, 6, 7, 8, 9, 10, 11, 12, 13, 14, 15])\n",
    "n_steps = 3\n",
    "n_future = 2\n",
    "\n",
    "# here we're expecting the following\n",
    "\n",
    "# X = [[1, 2, 3],       y = [[4, 5],\n",
    "#      [2, 3, 4],            [5, 6],\n",
    "#      [3, 4, 5]...]         [6, 7]...]"
   ]
  },
  {
   "cell_type": "code",
   "execution_count": 96,
   "id": "694f72df",
   "metadata": {},
   "outputs": [
    {
     "data": {
      "text/plain": [
       "(array([[ 1,  2,  3],\n",
       "        [ 2,  3,  4],\n",
       "        [ 3,  4,  5],\n",
       "        [ 4,  5,  6],\n",
       "        [ 5,  6,  7],\n",
       "        [ 6,  7,  8],\n",
       "        [ 7,  8,  9],\n",
       "        [ 8,  9, 10],\n",
       "        [ 9, 10, 11],\n",
       "        [10, 11, 12],\n",
       "        [11, 12, 13]]),\n",
       " array([[ 4,  5],\n",
       "        [ 5,  6],\n",
       "        [ 6,  7],\n",
       "        [ 7,  8],\n",
       "        [ 8,  9],\n",
       "        [ 9, 10],\n",
       "        [10, 11],\n",
       "        [11, 12],\n",
       "        [12, 13],\n",
       "        [13, 14],\n",
       "        [14, 15]]))"
      ]
     },
     "execution_count": 96,
     "metadata": {},
     "output_type": "execute_result"
    }
   ],
   "source": [
    "create_sequences(arr, n_steps, n_future) # great it works"
   ]
  },
  {
   "cell_type": "code",
   "execution_count": 97,
   "id": "53abe30c",
   "metadata": {},
   "outputs": [],
   "source": [
    "X, y = create_sequences(df['Close'], 10, 1) # here we want to look back 4 years which is 1461 days and predict 1 year."
   ]
  },
  {
   "cell_type": "code",
   "execution_count": 98,
   "id": "bfecba89",
   "metadata": {},
   "outputs": [],
   "source": [
    "from sklearn.preprocessing import StandardScaler"
   ]
  },
  {
   "cell_type": "code",
   "execution_count": 99,
   "id": "641f7d05",
   "metadata": {},
   "outputs": [],
   "source": [
    "scaler = StandardScaler()\n",
    "X = scaler.fit_transform(X)\n",
    "y = scaler.fit_transform(y)"
   ]
  },
  {
   "cell_type": "code",
   "execution_count": 100,
   "id": "c20bc85e",
   "metadata": {},
   "outputs": [],
   "source": [
    "X = X.reshape(X.shape[0], X.shape[1], 1)\n",
    "y = y.reshape(y.shape[0], y.shape[1], 1) # Reshape appropriately for LSTM model"
   ]
  },
  {
   "cell_type": "code",
   "execution_count": 101,
   "id": "d3cfabbd",
   "metadata": {},
   "outputs": [
    {
     "data": {
      "text/plain": [
       "((3642, 10, 1), (3642, 1, 1), (3652,))"
      ]
     },
     "execution_count": 101,
     "metadata": {},
     "output_type": "execute_result"
    }
   ],
   "source": [
    "X.shape, y.shape, df['Date'].shape"
   ]
  },
  {
   "cell_type": "markdown",
   "id": "be7383ae",
   "metadata": {},
   "source": [
    "# Creating Training, Test and Validation Sets"
   ]
  },
  {
   "cell_type": "code",
   "execution_count": 102,
   "id": "4d919d84",
   "metadata": {},
   "outputs": [],
   "source": [
    "q_90 = int(len(X) * 0.9)\n",
    "q_80 = int(len(X) * 0.8)"
   ]
  },
  {
   "cell_type": "code",
   "execution_count": 103,
   "id": "43cdf62f",
   "metadata": {},
   "outputs": [],
   "source": [
    "dates_train, dates_test, X_train, X_test = df['Date'][:q_80], df['Date'][q_90:-10], X[:q_80], X[q_90:]\n",
    "y_train, y_test = y[:q_80], y[q_90:]"
   ]
  },
  {
   "cell_type": "code",
   "execution_count": 104,
   "id": "697236cc",
   "metadata": {},
   "outputs": [],
   "source": [
    "dates_val, X_val, y_val = df['Date'][q_80:q_90], X[q_80:q_90], y[q_80:q_90]"
   ]
  },
  {
   "cell_type": "code",
   "execution_count": 105,
   "id": "022bec6e",
   "metadata": {},
   "outputs": [
    {
     "data": {
      "text/plain": [
       "(365,)"
      ]
     },
     "execution_count": 105,
     "metadata": {},
     "output_type": "execute_result"
    }
   ],
   "source": [
    "dates_test.shape"
   ]
  },
  {
   "cell_type": "code",
   "execution_count": 106,
   "id": "9f5287fd",
   "metadata": {},
   "outputs": [
    {
     "data": {
      "image/png": "[encoded data removed]",
      "text/plain": [
       "<Figure size 720x432 with 1 Axes>"
      ]
     },
     "metadata": {
      "needs_background": "light"
     },
     "output_type": "display_data"
    }
   ],
   "source": [
    "plt.figure(figsize=(10, 6))\n",
    "plt.plot(dates_train, y_train[:,0], label='Training Set', c='b')\n",
    "plt.plot(dates_val, y_val[:,0], label = 'Validation Set', c='r')\n",
    "plt.plot(dates_test, y_test[:,0], label = 'Test Set', c='g')\n",
    "plt.legend(fontsize=16)\n",
    "plt.grid()\n",
    "plt.show()"
   ]
  },
  {
   "cell_type": "markdown",
   "id": "5c1b34b5",
   "metadata": {},
   "source": [
    "# Creating the LSTM Model"
   ]
  },
  {
   "cell_type": "code",
   "execution_count": 107,
   "id": "115e8183",
   "metadata": {
    "scrolled": true
   },
   "outputs": [],
   "source": [
    "import tensorflow as tf\n",
    "from tensorflow import keras"
   ]
  },
  {
   "cell_type": "code",
   "execution_count": 108,
   "id": "630e38b3",
   "metadata": {},
   "outputs": [],
   "source": [
    "model = keras.models.Sequential([\n",
    "    keras.layers.LSTM(50, return_sequences = True, input_shape=[None, 1]),\n",
    "    keras.layers.LSTM(50, return_sequences = True),\n",
    "    keras.layers.Dense(64, activation='relu'),\n",
    "    keras.layers.Dense(32, activation='relu'),\n",
    "    keras.layers.Dense(1)\n",
    "])"
   ]
  },
  {
   "cell_type": "code",
   "execution_count": 109,
   "id": "5b0d5a8b",
   "metadata": {},
   "outputs": [],
   "source": [
    "model.compile(loss='mse', optimizer='adam', metrics=['mean_absolute_error'])"
   ]
  },
  {
   "cell_type": "code",
   "execution_count": 110,
   "id": "d201d6e6",
   "metadata": {},
   "outputs": [
    {
     "name": "stdout",
     "output_type": "stream",
     "text": [
      "Epoch 1/200\n",
      "92/92 [==============================] - 5s 19ms/step - loss: 0.1449 - mean_absolute_error: 0.2661 - val_loss: 0.2265 - val_mean_absolute_error: 0.3182\n",
      "Epoch 2/200\n",
      "92/92 [==============================] - 1s 7ms/step - loss: 0.0197 - mean_absolute_error: 0.0869 - val_loss: 0.0810 - val_mean_absolute_error: 0.1755\n",
      "Epoch 3/200\n",
      "92/92 [==============================] - 1s 7ms/step - loss: 0.0067 - mean_absolute_error: 0.0510 - val_loss: 0.0451 - val_mean_absolute_error: 0.1377\n",
      "Epoch 4/200\n",
      "92/92 [==============================] - 1s 7ms/step - loss: 0.0038 - mean_absolute_error: 0.0377 - val_loss: 0.0316 - val_mean_absolute_error: 0.1184\n",
      "Epoch 5/200\n",
      "92/92 [==============================] - 1s 7ms/step - loss: 0.0031 - mean_absolute_error: 0.0343 - val_loss: 0.0235 - val_mean_absolute_error: 0.1074\n",
      "Epoch 6/200\n",
      "92/92 [==============================] - 1s 8ms/step - loss: 0.0030 - mean_absolute_error: 0.0353 - val_loss: 0.0242 - val_mean_absolute_error: 0.1198\n",
      "Epoch 7/200\n",
      "92/92 [==============================] - 1s 7ms/step - loss: 0.0030 - mean_absolute_error: 0.0362 - val_loss: 0.0182 - val_mean_absolute_error: 0.1029\n",
      "Epoch 8/200\n",
      "92/92 [==============================] - 1s 7ms/step - loss: 0.0027 - mean_absolute_error: 0.0338 - val_loss: 0.0177 - val_mean_absolute_error: 0.1056\n",
      "Epoch 9/200\n",
      "92/92 [==============================] - 1s 7ms/step - loss: 0.0026 - mean_absolute_error: 0.0328 - val_loss: 0.0145 - val_mean_absolute_error: 0.0905\n",
      "Epoch 10/200\n",
      "92/92 [==============================] - 1s 7ms/step - loss: 0.0025 - mean_absolute_error: 0.0329 - val_loss: 0.0174 - val_mean_absolute_error: 0.1089\n",
      "Epoch 11/200\n",
      "92/92 [==============================] - 1s 7ms/step - loss: 0.0026 - mean_absolute_error: 0.0319 - val_loss: 0.0154 - val_mean_absolute_error: 0.1012\n",
      "Epoch 12/200\n",
      "92/92 [==============================] - 1s 7ms/step - loss: 0.0024 - mean_absolute_error: 0.0310 - val_loss: 0.0173 - val_mean_absolute_error: 0.1027\n",
      "Epoch 13/200\n",
      "92/92 [==============================] - 1s 7ms/step - loss: 0.0024 - mean_absolute_error: 0.0317 - val_loss: 0.0124 - val_mean_absolute_error: 0.0873\n",
      "Epoch 14/200\n",
      "92/92 [==============================] - 1s 8ms/step - loss: 0.0026 - mean_absolute_error: 0.0337 - val_loss: 0.0123 - val_mean_absolute_error: 0.0872\n",
      "Epoch 15/200\n",
      "92/92 [==============================] - 1s 7ms/step - loss: 0.0023 - mean_absolute_error: 0.0308 - val_loss: 0.0133 - val_mean_absolute_error: 0.0861\n",
      "Epoch 16/200\n",
      "92/92 [==============================] - 1s 7ms/step - loss: 0.0024 - mean_absolute_error: 0.0314 - val_loss: 0.0130 - val_mean_absolute_error: 0.0924\n",
      "Epoch 17/200\n",
      "92/92 [==============================] - 1s 7ms/step - loss: 0.0024 - mean_absolute_error: 0.0324 - val_loss: 0.0121 - val_mean_absolute_error: 0.0843\n",
      "Epoch 18/200\n",
      "92/92 [==============================] - 1s 7ms/step - loss: 0.0028 - mean_absolute_error: 0.0346 - val_loss: 0.0133 - val_mean_absolute_error: 0.0943\n",
      "Epoch 19/200\n",
      "92/92 [==============================] - 1s 7ms/step - loss: 0.0024 - mean_absolute_error: 0.0307 - val_loss: 0.0121 - val_mean_absolute_error: 0.0830\n",
      "Epoch 20/200\n",
      "92/92 [==============================] - 1s 7ms/step - loss: 0.0024 - mean_absolute_error: 0.0315 - val_loss: 0.0118 - val_mean_absolute_error: 0.0856\n",
      "Epoch 21/200\n",
      "92/92 [==============================] - 1s 7ms/step - loss: 0.0024 - mean_absolute_error: 0.0306 - val_loss: 0.0118 - val_mean_absolute_error: 0.0827\n",
      "Epoch 22/200\n",
      "92/92 [==============================] - 1s 7ms/step - loss: 0.0024 - mean_absolute_error: 0.0322 - val_loss: 0.0126 - val_mean_absolute_error: 0.0910\n",
      "Epoch 23/200\n",
      "92/92 [==============================] - 1s 7ms/step - loss: 0.0025 - mean_absolute_error: 0.0324 - val_loss: 0.0170 - val_mean_absolute_error: 0.1019\n",
      "Epoch 24/200\n",
      "92/92 [==============================] - 1s 7ms/step - loss: 0.0026 - mean_absolute_error: 0.0334 - val_loss: 0.0124 - val_mean_absolute_error: 0.0899\n",
      "Epoch 25/200\n",
      "92/92 [==============================] - 1s 7ms/step - loss: 0.0023 - mean_absolute_error: 0.0304 - val_loss: 0.0117 - val_mean_absolute_error: 0.0839\n",
      "Epoch 26/200\n",
      "92/92 [==============================] - 1s 7ms/step - loss: 0.0024 - mean_absolute_error: 0.0311 - val_loss: 0.0146 - val_mean_absolute_error: 0.0890\n",
      "Epoch 27/200\n",
      "92/92 [==============================] - 1s 7ms/step - loss: 0.0028 - mean_absolute_error: 0.0337 - val_loss: 0.0116 - val_mean_absolute_error: 0.0818\n",
      "Epoch 28/200\n",
      "92/92 [==============================] - 1s 7ms/step - loss: 0.0023 - mean_absolute_error: 0.0298 - val_loss: 0.0139 - val_mean_absolute_error: 0.0972\n",
      "Epoch 29/200\n",
      "92/92 [==============================] - 1s 7ms/step - loss: 0.0025 - mean_absolute_error: 0.0333 - val_loss: 0.0114 - val_mean_absolute_error: 0.0818\n",
      "Epoch 30/200\n",
      "92/92 [==============================] - 1s 8ms/step - loss: 0.0024 - mean_absolute_error: 0.0321 - val_loss: 0.0115 - val_mean_absolute_error: 0.0823\n",
      "Epoch 31/200\n",
      "92/92 [==============================] - 1s 8ms/step - loss: 0.0024 - mean_absolute_error: 0.0314 - val_loss: 0.0118 - val_mean_absolute_error: 0.0817\n",
      "Epoch 32/200\n",
      "92/92 [==============================] - 1s 8ms/step - loss: 0.0023 - mean_absolute_error: 0.0302 - val_loss: 0.0116 - val_mean_absolute_error: 0.0835\n",
      "Epoch 33/200\n",
      "92/92 [==============================] - 1s 7ms/step - loss: 0.0027 - mean_absolute_error: 0.0340 - val_loss: 0.0137 - val_mean_absolute_error: 0.0964\n",
      "Epoch 34/200\n",
      "92/92 [==============================] - 1s 7ms/step - loss: 0.0024 - mean_absolute_error: 0.0312 - val_loss: 0.0146 - val_mean_absolute_error: 0.0900\n",
      "Epoch 35/200\n",
      "92/92 [==============================] - 1s 7ms/step - loss: 0.0024 - mean_absolute_error: 0.0316 - val_loss: 0.0118 - val_mean_absolute_error: 0.0823\n",
      "Epoch 36/200\n",
      "92/92 [==============================] - 1s 8ms/step - loss: 0.0022 - mean_absolute_error: 0.0295 - val_loss: 0.0128 - val_mean_absolute_error: 0.0837\n",
      "Epoch 37/200\n",
      "92/92 [==============================] - 1s 7ms/step - loss: 0.0023 - mean_absolute_error: 0.0307 - val_loss: 0.0123 - val_mean_absolute_error: 0.0886\n",
      "Epoch 38/200\n",
      "92/92 [==============================] - 1s 7ms/step - loss: 0.0023 - mean_absolute_error: 0.0302 - val_loss: 0.0133 - val_mean_absolute_error: 0.0864\n",
      "Epoch 39/200\n",
      "92/92 [==============================] - 1s 8ms/step - loss: 0.0025 - mean_absolute_error: 0.0320 - val_loss: 0.0116 - val_mean_absolute_error: 0.0851\n",
      "Epoch 40/200\n",
      "92/92 [==============================] - 1s 8ms/step - loss: 0.0024 - mean_absolute_error: 0.0310 - val_loss: 0.0136 - val_mean_absolute_error: 0.0878\n",
      "Epoch 41/200\n",
      "92/92 [==============================] - 1s 7ms/step - loss: 0.0023 - mean_absolute_error: 0.0313 - val_loss: 0.0115 - val_mean_absolute_error: 0.0830\n",
      "Epoch 42/200\n",
      "92/92 [==============================] - 1s 8ms/step - loss: 0.0022 - mean_absolute_error: 0.0290 - val_loss: 0.0114 - val_mean_absolute_error: 0.0822\n",
      "Epoch 43/200\n",
      "92/92 [==============================] - 1s 8ms/step - loss: 0.0024 - mean_absolute_error: 0.0315 - val_loss: 0.0141 - val_mean_absolute_error: 0.0885\n",
      "Epoch 44/200\n",
      "92/92 [==============================] - 1s 7ms/step - loss: 0.0023 - mean_absolute_error: 0.0306 - val_loss: 0.0116 - val_mean_absolute_error: 0.0848\n",
      "Epoch 45/200\n",
      "92/92 [==============================] - 1s 8ms/step - loss: 0.0024 - mean_absolute_error: 0.0314 - val_loss: 0.0123 - val_mean_absolute_error: 0.0887\n",
      "Epoch 46/200\n",
      "92/92 [==============================] - 1s 7ms/step - loss: 0.0023 - mean_absolute_error: 0.0306 - val_loss: 0.0188 - val_mean_absolute_error: 0.1059\n",
      "Epoch 47/200\n",
      "92/92 [==============================] - 1s 7ms/step - loss: 0.0025 - mean_absolute_error: 0.0320 - val_loss: 0.0117 - val_mean_absolute_error: 0.0830\n",
      "Epoch 48/200\n",
      "92/92 [==============================] - 1s 7ms/step - loss: 0.0023 - mean_absolute_error: 0.0298 - val_loss: 0.0116 - val_mean_absolute_error: 0.0816\n",
      "Epoch 49/200\n",
      "92/92 [==============================] - 1s 7ms/step - loss: 0.0025 - mean_absolute_error: 0.0327 - val_loss: 0.0118 - val_mean_absolute_error: 0.0818\n",
      "Epoch 50/200\n",
      "92/92 [==============================] - 1s 7ms/step - loss: 0.0024 - mean_absolute_error: 0.0318 - val_loss: 0.0128 - val_mean_absolute_error: 0.0845\n",
      "Epoch 51/200\n"
     ]
    },
    {
     "name": "stdout",
     "output_type": "stream",
     "text": [
      "92/92 [==============================] - 1s 8ms/step - loss: 0.0023 - mean_absolute_error: 0.0300 - val_loss: 0.0158 - val_mean_absolute_error: 0.0960\n",
      "Epoch 52/200\n",
      "92/92 [==============================] - 1s 7ms/step - loss: 0.0025 - mean_absolute_error: 0.0333 - val_loss: 0.0186 - val_mean_absolute_error: 0.1047\n",
      "Epoch 53/200\n",
      "92/92 [==============================] - 1s 7ms/step - loss: 0.0024 - mean_absolute_error: 0.0319 - val_loss: 0.0121 - val_mean_absolute_error: 0.0880\n",
      "Epoch 54/200\n",
      "92/92 [==============================] - 1s 7ms/step - loss: 0.0023 - mean_absolute_error: 0.0306 - val_loss: 0.0123 - val_mean_absolute_error: 0.0824\n",
      "Epoch 55/200\n",
      "92/92 [==============================] - 1s 7ms/step - loss: 0.0024 - mean_absolute_error: 0.0310 - val_loss: 0.0132 - val_mean_absolute_error: 0.0938\n",
      "Epoch 56/200\n",
      "92/92 [==============================] - 1s 7ms/step - loss: 0.0023 - mean_absolute_error: 0.0302 - val_loss: 0.0114 - val_mean_absolute_error: 0.0825\n",
      "Epoch 57/200\n",
      "92/92 [==============================] - 1s 7ms/step - loss: 0.0023 - mean_absolute_error: 0.0304 - val_loss: 0.0125 - val_mean_absolute_error: 0.0827\n",
      "Epoch 58/200\n",
      "92/92 [==============================] - 1s 7ms/step - loss: 0.0023 - mean_absolute_error: 0.0305 - val_loss: 0.0114 - val_mean_absolute_error: 0.0813\n",
      "Epoch 59/200\n",
      "92/92 [==============================] - 1s 7ms/step - loss: 0.0023 - mean_absolute_error: 0.0304 - val_loss: 0.0115 - val_mean_absolute_error: 0.0823\n",
      "Epoch 60/200\n",
      "92/92 [==============================] - 1s 7ms/step - loss: 0.0023 - mean_absolute_error: 0.0301 - val_loss: 0.0131 - val_mean_absolute_error: 0.0861\n",
      "Epoch 61/200\n",
      "92/92 [==============================] - 1s 7ms/step - loss: 0.0024 - mean_absolute_error: 0.0311 - val_loss: 0.0133 - val_mean_absolute_error: 0.0865\n",
      "Epoch 62/200\n",
      "92/92 [==============================] - 1s 7ms/step - loss: 0.0024 - mean_absolute_error: 0.0314 - val_loss: 0.0244 - val_mean_absolute_error: 0.1258\n",
      "Epoch 63/200\n",
      "92/92 [==============================] - 1s 7ms/step - loss: 0.0023 - mean_absolute_error: 0.0305 - val_loss: 0.0127 - val_mean_absolute_error: 0.0839\n",
      "Epoch 64/200\n",
      "92/92 [==============================] - 1s 7ms/step - loss: 0.0023 - mean_absolute_error: 0.0308 - val_loss: 0.0114 - val_mean_absolute_error: 0.0821\n",
      "Epoch 65/200\n",
      "92/92 [==============================] - 1s 7ms/step - loss: 0.0024 - mean_absolute_error: 0.0315 - val_loss: 0.0121 - val_mean_absolute_error: 0.0816\n",
      "Epoch 66/200\n",
      "92/92 [==============================] - 1s 7ms/step - loss: 0.0023 - mean_absolute_error: 0.0301 - val_loss: 0.0158 - val_mean_absolute_error: 0.0953\n",
      "Epoch 67/200\n",
      "92/92 [==============================] - 1s 7ms/step - loss: 0.0026 - mean_absolute_error: 0.0324 - val_loss: 0.0115 - val_mean_absolute_error: 0.0838\n",
      "Epoch 68/200\n",
      "92/92 [==============================] - 1s 7ms/step - loss: 0.0024 - mean_absolute_error: 0.0312 - val_loss: 0.0119 - val_mean_absolute_error: 0.0868\n",
      "Epoch 69/200\n",
      "92/92 [==============================] - 1s 7ms/step - loss: 0.0023 - mean_absolute_error: 0.0301 - val_loss: 0.0114 - val_mean_absolute_error: 0.0814\n",
      "Epoch 70/200\n",
      "92/92 [==============================] - 1s 7ms/step - loss: 0.0022 - mean_absolute_error: 0.0297 - val_loss: 0.0116 - val_mean_absolute_error: 0.0815\n",
      "Epoch 71/200\n",
      "92/92 [==============================] - 1s 8ms/step - loss: 0.0023 - mean_absolute_error: 0.0299 - val_loss: 0.0210 - val_mean_absolute_error: 0.1157\n",
      "Epoch 72/200\n",
      "92/92 [==============================] - 1s 7ms/step - loss: 0.0025 - mean_absolute_error: 0.0335 - val_loss: 0.0285 - val_mean_absolute_error: 0.1484\n",
      "Epoch 73/200\n",
      "92/92 [==============================] - 1s 8ms/step - loss: 0.0032 - mean_absolute_error: 0.0359 - val_loss: 0.0113 - val_mean_absolute_error: 0.0813\n",
      "Epoch 74/200\n",
      "92/92 [==============================] - 1s 8ms/step - loss: 0.0023 - mean_absolute_error: 0.0306 - val_loss: 0.0115 - val_mean_absolute_error: 0.0818\n",
      "Epoch 75/200\n",
      "92/92 [==============================] - 1s 7ms/step - loss: 0.0024 - mean_absolute_error: 0.0311 - val_loss: 0.0138 - val_mean_absolute_error: 0.0965\n",
      "Epoch 76/200\n",
      "92/92 [==============================] - 1s 7ms/step - loss: 0.0023 - mean_absolute_error: 0.0298 - val_loss: 0.0135 - val_mean_absolute_error: 0.0951\n",
      "Epoch 77/200\n",
      "92/92 [==============================] - 1s 7ms/step - loss: 0.0023 - mean_absolute_error: 0.0299 - val_loss: 0.0119 - val_mean_absolute_error: 0.0813\n",
      "Epoch 78/200\n",
      "92/92 [==============================] - 1s 7ms/step - loss: 0.0023 - mean_absolute_error: 0.0301 - val_loss: 0.0134 - val_mean_absolute_error: 0.0862\n",
      "Epoch 79/200\n",
      "92/92 [==============================] - 1s 8ms/step - loss: 0.0023 - mean_absolute_error: 0.0311 - val_loss: 0.0138 - val_mean_absolute_error: 0.0873\n",
      "Epoch 80/200\n",
      "92/92 [==============================] - 1s 7ms/step - loss: 0.0023 - mean_absolute_error: 0.0302 - val_loss: 0.0115 - val_mean_absolute_error: 0.0812\n",
      "Epoch 81/200\n",
      "92/92 [==============================] - 1s 7ms/step - loss: 0.0023 - mean_absolute_error: 0.0309 - val_loss: 0.0115 - val_mean_absolute_error: 0.0839\n",
      "Epoch 82/200\n",
      "92/92 [==============================] - 1s 7ms/step - loss: 0.0023 - mean_absolute_error: 0.0302 - val_loss: 0.0114 - val_mean_absolute_error: 0.0820\n",
      "Epoch 83/200\n",
      "92/92 [==============================] - 1s 7ms/step - loss: 0.0023 - mean_absolute_error: 0.0303 - val_loss: 0.0120 - val_mean_absolute_error: 0.0815\n",
      "Epoch 84/200\n",
      "92/92 [==============================] - 1s 7ms/step - loss: 0.0023 - mean_absolute_error: 0.0308 - val_loss: 0.0163 - val_mean_absolute_error: 0.1069\n",
      "Epoch 85/200\n",
      "92/92 [==============================] - 1s 7ms/step - loss: 0.0024 - mean_absolute_error: 0.0314 - val_loss: 0.0219 - val_mean_absolute_error: 0.1186\n",
      "Epoch 86/200\n",
      "92/92 [==============================] - 1s 8ms/step - loss: 0.0026 - mean_absolute_error: 0.0322 - val_loss: 0.0132 - val_mean_absolute_error: 0.0939\n",
      "Epoch 87/200\n",
      "92/92 [==============================] - 1s 8ms/step - loss: 0.0023 - mean_absolute_error: 0.0301 - val_loss: 0.0116 - val_mean_absolute_error: 0.0821\n",
      "Epoch 88/200\n",
      "92/92 [==============================] - 1s 8ms/step - loss: 0.0024 - mean_absolute_error: 0.0309 - val_loss: 0.0116 - val_mean_absolute_error: 0.0846\n",
      "Epoch 89/200\n",
      "92/92 [==============================] - 1s 8ms/step - loss: 0.0023 - mean_absolute_error: 0.0304 - val_loss: 0.0118 - val_mean_absolute_error: 0.0817\n",
      "Epoch 90/200\n",
      "92/92 [==============================] - 1s 8ms/step - loss: 0.0024 - mean_absolute_error: 0.0309 - val_loss: 0.0163 - val_mean_absolute_error: 0.0961\n",
      "Epoch 91/200\n",
      "92/92 [==============================] - 1s 8ms/step - loss: 0.0024 - mean_absolute_error: 0.0313 - val_loss: 0.0132 - val_mean_absolute_error: 0.0853\n",
      "Epoch 92/200\n",
      "92/92 [==============================] - 1s 7ms/step - loss: 0.0022 - mean_absolute_error: 0.0294 - val_loss: 0.0133 - val_mean_absolute_error: 0.0943\n",
      "Epoch 93/200\n",
      "92/92 [==============================] - 1s 7ms/step - loss: 0.0023 - mean_absolute_error: 0.0299 - val_loss: 0.0169 - val_mean_absolute_error: 0.0974\n",
      "Epoch 94/200\n",
      "92/92 [==============================] - 1s 7ms/step - loss: 0.0023 - mean_absolute_error: 0.0305 - val_loss: 0.0131 - val_mean_absolute_error: 0.0841\n",
      "Epoch 95/200\n",
      "92/92 [==============================] - 1s 7ms/step - loss: 0.0024 - mean_absolute_error: 0.0309 - val_loss: 0.0141 - val_mean_absolute_error: 0.0892\n",
      "Epoch 96/200\n",
      "92/92 [==============================] - 1s 7ms/step - loss: 0.0025 - mean_absolute_error: 0.0322 - val_loss: 0.0115 - val_mean_absolute_error: 0.0811\n",
      "Epoch 97/200\n",
      "92/92 [==============================] - 1s 7ms/step - loss: 0.0023 - mean_absolute_error: 0.0311 - val_loss: 0.0116 - val_mean_absolute_error: 0.0812\n",
      "Epoch 98/200\n",
      "92/92 [==============================] - 1s 7ms/step - loss: 0.0023 - mean_absolute_error: 0.0307 - val_loss: 0.0123 - val_mean_absolute_error: 0.0888\n",
      "Epoch 99/200\n",
      "92/92 [==============================] - 1s 7ms/step - loss: 0.0023 - mean_absolute_error: 0.0309 - val_loss: 0.0116 - val_mean_absolute_error: 0.0822\n",
      "Epoch 100/200\n",
      "92/92 [==============================] - 1s 7ms/step - loss: 0.0022 - mean_absolute_error: 0.0294 - val_loss: 0.0142 - val_mean_absolute_error: 0.0979\n",
      "Epoch 101/200\n"
     ]
    },
    {
     "name": "stdout",
     "output_type": "stream",
     "text": [
      "92/92 [==============================] - 1s 8ms/step - loss: 0.0025 - mean_absolute_error: 0.0334 - val_loss: 0.0141 - val_mean_absolute_error: 0.0979\n",
      "Epoch 102/200\n",
      "92/92 [==============================] - 1s 7ms/step - loss: 0.0024 - mean_absolute_error: 0.0313 - val_loss: 0.0128 - val_mean_absolute_error: 0.0846\n",
      "Epoch 103/200\n",
      "92/92 [==============================] - 1s 7ms/step - loss: 0.0023 - mean_absolute_error: 0.0307 - val_loss: 0.0115 - val_mean_absolute_error: 0.0831\n",
      "Epoch 104/200\n",
      "92/92 [==============================] - 1s 7ms/step - loss: 0.0023 - mean_absolute_error: 0.0306 - val_loss: 0.0117 - val_mean_absolute_error: 0.0811\n",
      "Epoch 105/200\n",
      "92/92 [==============================] - 1s 7ms/step - loss: 0.0024 - mean_absolute_error: 0.0313 - val_loss: 0.0113 - val_mean_absolute_error: 0.0812\n",
      "Epoch 106/200\n",
      "92/92 [==============================] - 1s 7ms/step - loss: 0.0022 - mean_absolute_error: 0.0294 - val_loss: 0.0114 - val_mean_absolute_error: 0.0826\n",
      "Epoch 107/200\n",
      "92/92 [==============================] - 1s 7ms/step - loss: 0.0023 - mean_absolute_error: 0.0301 - val_loss: 0.0118 - val_mean_absolute_error: 0.0858\n",
      "Epoch 108/200\n",
      "92/92 [==============================] - 1s 7ms/step - loss: 0.0022 - mean_absolute_error: 0.0296 - val_loss: 0.0126 - val_mean_absolute_error: 0.0835\n",
      "Epoch 109/200\n",
      "92/92 [==============================] - 1s 7ms/step - loss: 0.0022 - mean_absolute_error: 0.0296 - val_loss: 0.0116 - val_mean_absolute_error: 0.0811\n",
      "Epoch 110/200\n",
      "92/92 [==============================] - 1s 7ms/step - loss: 0.0023 - mean_absolute_error: 0.0308 - val_loss: 0.0115 - val_mean_absolute_error: 0.0811\n",
      "Epoch 111/200\n",
      "92/92 [==============================] - 1s 7ms/step - loss: 0.0023 - mean_absolute_error: 0.0297 - val_loss: 0.0115 - val_mean_absolute_error: 0.0810\n",
      "Epoch 112/200\n",
      "92/92 [==============================] - 1s 7ms/step - loss: 0.0022 - mean_absolute_error: 0.0294 - val_loss: 0.0143 - val_mean_absolute_error: 0.0886\n",
      "Epoch 113/200\n",
      "92/92 [==============================] - 1s 7ms/step - loss: 0.0023 - mean_absolute_error: 0.0305 - val_loss: 0.0174 - val_mean_absolute_error: 0.1002\n",
      "Epoch 114/200\n",
      "92/92 [==============================] - 1s 7ms/step - loss: 0.0026 - mean_absolute_error: 0.0333 - val_loss: 0.0112 - val_mean_absolute_error: 0.0812\n",
      "Epoch 115/200\n",
      "92/92 [==============================] - 1s 7ms/step - loss: 0.0023 - mean_absolute_error: 0.0301 - val_loss: 0.0115 - val_mean_absolute_error: 0.0842\n",
      "Epoch 116/200\n",
      "92/92 [==============================] - 1s 7ms/step - loss: 0.0024 - mean_absolute_error: 0.0308 - val_loss: 0.0121 - val_mean_absolute_error: 0.0817\n",
      "Epoch 117/200\n",
      "92/92 [==============================] - 1s 7ms/step - loss: 0.0023 - mean_absolute_error: 0.0306 - val_loss: 0.0151 - val_mean_absolute_error: 0.0920\n",
      "Epoch 118/200\n",
      "92/92 [==============================] - 1s 7ms/step - loss: 0.0022 - mean_absolute_error: 0.0295 - val_loss: 0.0114 - val_mean_absolute_error: 0.0827\n",
      "Epoch 119/200\n",
      "92/92 [==============================] - 1s 7ms/step - loss: 0.0023 - mean_absolute_error: 0.0301 - val_loss: 0.0139 - val_mean_absolute_error: 0.0876\n",
      "Epoch 120/200\n",
      "92/92 [==============================] - 1s 7ms/step - loss: 0.0024 - mean_absolute_error: 0.0314 - val_loss: 0.0123 - val_mean_absolute_error: 0.0826\n",
      "Epoch 121/200\n",
      "92/92 [==============================] - 1s 7ms/step - loss: 0.0023 - mean_absolute_error: 0.0305 - val_loss: 0.0116 - val_mean_absolute_error: 0.0810\n",
      "Epoch 122/200\n",
      "92/92 [==============================] - 1s 7ms/step - loss: 0.0022 - mean_absolute_error: 0.0289 - val_loss: 0.0114 - val_mean_absolute_error: 0.0817\n",
      "Epoch 123/200\n",
      "92/92 [==============================] - 1s 8ms/step - loss: 0.0023 - mean_absolute_error: 0.0299 - val_loss: 0.0114 - val_mean_absolute_error: 0.0819\n",
      "Epoch 124/200\n",
      "92/92 [==============================] - 1s 7ms/step - loss: 0.0022 - mean_absolute_error: 0.0296 - val_loss: 0.0136 - val_mean_absolute_error: 0.0862\n",
      "Epoch 125/200\n",
      "92/92 [==============================] - 1s 8ms/step - loss: 0.0022 - mean_absolute_error: 0.0295 - val_loss: 0.0121 - val_mean_absolute_error: 0.0877\n",
      "Epoch 126/200\n",
      "92/92 [==============================] - 1s 7ms/step - loss: 0.0023 - mean_absolute_error: 0.0300 - val_loss: 0.0129 - val_mean_absolute_error: 0.0918\n",
      "Epoch 127/200\n",
      "92/92 [==============================] - 1s 7ms/step - loss: 0.0023 - mean_absolute_error: 0.0300 - val_loss: 0.0142 - val_mean_absolute_error: 0.0886\n",
      "Epoch 128/200\n",
      "92/92 [==============================] - 1s 7ms/step - loss: 0.0023 - mean_absolute_error: 0.0304 - val_loss: 0.0136 - val_mean_absolute_error: 0.0873\n",
      "Epoch 129/200\n",
      "92/92 [==============================] - 1s 7ms/step - loss: 0.0023 - mean_absolute_error: 0.0301 - val_loss: 0.0115 - val_mean_absolute_error: 0.0840\n",
      "Epoch 130/200\n",
      "92/92 [==============================] - 1s 7ms/step - loss: 0.0023 - mean_absolute_error: 0.0305 - val_loss: 0.0124 - val_mean_absolute_error: 0.0828\n",
      "Epoch 131/200\n",
      "92/92 [==============================] - 1s 7ms/step - loss: 0.0023 - mean_absolute_error: 0.0305 - val_loss: 0.0118 - val_mean_absolute_error: 0.0810\n",
      "Epoch 132/200\n",
      "92/92 [==============================] - 1s 7ms/step - loss: 0.0023 - mean_absolute_error: 0.0299 - val_loss: 0.0117 - val_mean_absolute_error: 0.0810\n",
      "Epoch 133/200\n",
      "92/92 [==============================] - 1s 7ms/step - loss: 0.0023 - mean_absolute_error: 0.0302 - val_loss: 0.0126 - val_mean_absolute_error: 0.0905\n",
      "Epoch 134/200\n",
      "92/92 [==============================] - 1s 8ms/step - loss: 0.0026 - mean_absolute_error: 0.0337 - val_loss: 0.0157 - val_mean_absolute_error: 0.1046\n",
      "Epoch 135/200\n",
      "92/92 [==============================] - 1s 8ms/step - loss: 0.0024 - mean_absolute_error: 0.0311 - val_loss: 0.0115 - val_mean_absolute_error: 0.0820\n",
      "Epoch 136/200\n",
      "92/92 [==============================] - 1s 8ms/step - loss: 0.0023 - mean_absolute_error: 0.0300 - val_loss: 0.0115 - val_mean_absolute_error: 0.0811\n",
      "Epoch 137/200\n",
      "92/92 [==============================] - 1s 7ms/step - loss: 0.0022 - mean_absolute_error: 0.0294 - val_loss: 0.0155 - val_mean_absolute_error: 0.0932\n",
      "Epoch 138/200\n",
      "92/92 [==============================] - 1s 8ms/step - loss: 0.0022 - mean_absolute_error: 0.0294 - val_loss: 0.0115 - val_mean_absolute_error: 0.0813\n",
      "Epoch 139/200\n",
      "92/92 [==============================] - 1s 7ms/step - loss: 0.0023 - mean_absolute_error: 0.0304 - val_loss: 0.0116 - val_mean_absolute_error: 0.0812\n",
      "Epoch 140/200\n",
      "92/92 [==============================] - 1s 7ms/step - loss: 0.0024 - mean_absolute_error: 0.0314 - val_loss: 0.0117 - val_mean_absolute_error: 0.0811\n",
      "Epoch 141/200\n",
      "92/92 [==============================] - 1s 7ms/step - loss: 0.0022 - mean_absolute_error: 0.0290 - val_loss: 0.0129 - val_mean_absolute_error: 0.0840\n",
      "Epoch 142/200\n",
      "92/92 [==============================] - 1s 8ms/step - loss: 0.0022 - mean_absolute_error: 0.0295 - val_loss: 0.0117 - val_mean_absolute_error: 0.0814\n",
      "Epoch 143/200\n",
      "92/92 [==============================] - 1s 7ms/step - loss: 0.0023 - mean_absolute_error: 0.0302 - val_loss: 0.0132 - val_mean_absolute_error: 0.0855\n",
      "Epoch 144/200\n",
      "92/92 [==============================] - 1s 7ms/step - loss: 0.0022 - mean_absolute_error: 0.0294 - val_loss: 0.0115 - val_mean_absolute_error: 0.0809\n",
      "Epoch 145/200\n",
      "92/92 [==============================] - 1s 7ms/step - loss: 0.0023 - mean_absolute_error: 0.0299 - val_loss: 0.0113 - val_mean_absolute_error: 0.0808\n",
      "Epoch 146/200\n",
      "92/92 [==============================] - 1s 7ms/step - loss: 0.0024 - mean_absolute_error: 0.0311 - val_loss: 0.0121 - val_mean_absolute_error: 0.0824\n",
      "Epoch 147/200\n",
      "92/92 [==============================] - 1s 7ms/step - loss: 0.0022 - mean_absolute_error: 0.0291 - val_loss: 0.0141 - val_mean_absolute_error: 0.0981\n",
      "Epoch 148/200\n",
      "92/92 [==============================] - 1s 7ms/step - loss: 0.0022 - mean_absolute_error: 0.0290 - val_loss: 0.0141 - val_mean_absolute_error: 0.0877\n",
      "Epoch 149/200\n",
      "92/92 [==============================] - 1s 7ms/step - loss: 0.0023 - mean_absolute_error: 0.0303 - val_loss: 0.0272 - val_mean_absolute_error: 0.1339\n",
      "Epoch 150/200\n",
      "92/92 [==============================] - 1s 7ms/step - loss: 0.0026 - mean_absolute_error: 0.0327 - val_loss: 0.0115 - val_mean_absolute_error: 0.0826\n"
     ]
    },
    {
     "name": "stdout",
     "output_type": "stream",
     "text": [
      "Epoch 151/200\n",
      "92/92 [==============================] - 1s 7ms/step - loss: 0.0023 - mean_absolute_error: 0.0305 - val_loss: 0.0116 - val_mean_absolute_error: 0.0810\n",
      "Epoch 152/200\n",
      "92/92 [==============================] - 1s 8ms/step - loss: 0.0022 - mean_absolute_error: 0.0295 - val_loss: 0.0115 - val_mean_absolute_error: 0.0834\n",
      "Epoch 153/200\n",
      "92/92 [==============================] - 1s 7ms/step - loss: 0.0022 - mean_absolute_error: 0.0298 - val_loss: 0.0122 - val_mean_absolute_error: 0.0879\n",
      "Epoch 154/200\n",
      "92/92 [==============================] - 1s 7ms/step - loss: 0.0022 - mean_absolute_error: 0.0293 - val_loss: 0.0120 - val_mean_absolute_error: 0.0815\n",
      "Epoch 155/200\n",
      "92/92 [==============================] - 1s 7ms/step - loss: 0.0023 - mean_absolute_error: 0.0298 - val_loss: 0.0121 - val_mean_absolute_error: 0.0876\n",
      "Epoch 156/200\n",
      "92/92 [==============================] - 1s 7ms/step - loss: 0.0023 - mean_absolute_error: 0.0311 - val_loss: 0.0178 - val_mean_absolute_error: 0.1013\n",
      "Epoch 157/200\n",
      "92/92 [==============================] - 1s 7ms/step - loss: 0.0026 - mean_absolute_error: 0.0317 - val_loss: 0.0128 - val_mean_absolute_error: 0.0911\n",
      "Epoch 158/200\n",
      "92/92 [==============================] - 1s 7ms/step - loss: 0.0023 - mean_absolute_error: 0.0298 - val_loss: 0.0116 - val_mean_absolute_error: 0.0843\n",
      "Epoch 159/200\n",
      "92/92 [==============================] - 1s 7ms/step - loss: 0.0023 - mean_absolute_error: 0.0299 - val_loss: 0.0114 - val_mean_absolute_error: 0.0808\n",
      "Epoch 160/200\n",
      "92/92 [==============================] - 1s 7ms/step - loss: 0.0022 - mean_absolute_error: 0.0294 - val_loss: 0.0117 - val_mean_absolute_error: 0.0810\n",
      "Epoch 161/200\n",
      "92/92 [==============================] - 1s 7ms/step - loss: 0.0022 - mean_absolute_error: 0.0293 - val_loss: 0.0142 - val_mean_absolute_error: 0.0896\n",
      "Epoch 162/200\n",
      "92/92 [==============================] - 1s 7ms/step - loss: 0.0023 - mean_absolute_error: 0.0311 - val_loss: 0.0129 - val_mean_absolute_error: 0.0834\n",
      "Epoch 163/200\n",
      "92/92 [==============================] - 1s 7ms/step - loss: 0.0023 - mean_absolute_error: 0.0296 - val_loss: 0.0113 - val_mean_absolute_error: 0.0810\n",
      "Epoch 164/200\n",
      "92/92 [==============================] - 1s 7ms/step - loss: 0.0022 - mean_absolute_error: 0.0296 - val_loss: 0.0114 - val_mean_absolute_error: 0.0815\n",
      "Epoch 165/200\n",
      "92/92 [==============================] - 1s 8ms/step - loss: 0.0023 - mean_absolute_error: 0.0307 - val_loss: 0.0115 - val_mean_absolute_error: 0.0838\n",
      "Epoch 166/200\n",
      "92/92 [==============================] - 1s 8ms/step - loss: 0.0022 - mean_absolute_error: 0.0299 - val_loss: 0.0114 - val_mean_absolute_error: 0.0820\n",
      "Epoch 167/200\n",
      "92/92 [==============================] - 1s 7ms/step - loss: 0.0023 - mean_absolute_error: 0.0297 - val_loss: 0.0118 - val_mean_absolute_error: 0.0856\n",
      "Epoch 168/200\n",
      "92/92 [==============================] - 1s 7ms/step - loss: 0.0022 - mean_absolute_error: 0.0300 - val_loss: 0.0131 - val_mean_absolute_error: 0.0928\n",
      "Epoch 169/200\n",
      "92/92 [==============================] - 1s 7ms/step - loss: 0.0023 - mean_absolute_error: 0.0304 - val_loss: 0.0134 - val_mean_absolute_error: 0.0851\n",
      "Epoch 170/200\n",
      "92/92 [==============================] - 1s 7ms/step - loss: 0.0023 - mean_absolute_error: 0.0299 - val_loss: 0.0114 - val_mean_absolute_error: 0.0817\n",
      "Epoch 171/200\n",
      "92/92 [==============================] - 1s 7ms/step - loss: 0.0023 - mean_absolute_error: 0.0307 - val_loss: 0.0114 - val_mean_absolute_error: 0.0819\n",
      "Epoch 172/200\n",
      "92/92 [==============================] - 1s 8ms/step - loss: 0.0022 - mean_absolute_error: 0.0294 - val_loss: 0.0119 - val_mean_absolute_error: 0.0813\n",
      "Epoch 173/200\n",
      "92/92 [==============================] - 1s 7ms/step - loss: 0.0023 - mean_absolute_error: 0.0304 - val_loss: 0.0113 - val_mean_absolute_error: 0.0812\n",
      "Epoch 174/200\n",
      "92/92 [==============================] - 1s 7ms/step - loss: 0.0022 - mean_absolute_error: 0.0297 - val_loss: 0.0124 - val_mean_absolute_error: 0.0826\n",
      "Epoch 175/200\n",
      "92/92 [==============================] - 1s 7ms/step - loss: 0.0022 - mean_absolute_error: 0.0292 - val_loss: 0.0122 - val_mean_absolute_error: 0.0819\n",
      "Epoch 176/200\n",
      "92/92 [==============================] - 1s 7ms/step - loss: 0.0022 - mean_absolute_error: 0.0292 - val_loss: 0.0119 - val_mean_absolute_error: 0.0861\n",
      "Epoch 177/200\n",
      "92/92 [==============================] - 1s 7ms/step - loss: 0.0022 - mean_absolute_error: 0.0295 - val_loss: 0.0134 - val_mean_absolute_error: 0.0865\n",
      "Epoch 178/200\n",
      "92/92 [==============================] - 1s 7ms/step - loss: 0.0023 - mean_absolute_error: 0.0305 - val_loss: 0.0130 - val_mean_absolute_error: 0.0860\n",
      "Epoch 179/200\n",
      "92/92 [==============================] - 1s 7ms/step - loss: 0.0023 - mean_absolute_error: 0.0309 - val_loss: 0.0114 - val_mean_absolute_error: 0.0824\n",
      "Epoch 180/200\n",
      "92/92 [==============================] - 1s 7ms/step - loss: 0.0026 - mean_absolute_error: 0.0338 - val_loss: 0.0160 - val_mean_absolute_error: 0.1058\n",
      "Epoch 181/200\n",
      "92/92 [==============================] - 1s 7ms/step - loss: 0.0022 - mean_absolute_error: 0.0299 - val_loss: 0.0115 - val_mean_absolute_error: 0.0829\n",
      "Epoch 182/200\n",
      "92/92 [==============================] - 1s 7ms/step - loss: 0.0022 - mean_absolute_error: 0.0291 - val_loss: 0.0128 - val_mean_absolute_error: 0.0913\n",
      "Epoch 183/200\n",
      "92/92 [==============================] - 1s 7ms/step - loss: 0.0022 - mean_absolute_error: 0.0294 - val_loss: 0.0156 - val_mean_absolute_error: 0.0930\n",
      "Epoch 184/200\n",
      "92/92 [==============================] - 1s 7ms/step - loss: 0.0023 - mean_absolute_error: 0.0305 - val_loss: 0.0161 - val_mean_absolute_error: 0.1065\n",
      "Epoch 185/200\n",
      "92/92 [==============================] - 1s 7ms/step - loss: 0.0022 - mean_absolute_error: 0.0293 - val_loss: 0.0116 - val_mean_absolute_error: 0.0847\n",
      "Epoch 186/200\n",
      "92/92 [==============================] - 1s 7ms/step - loss: 0.0022 - mean_absolute_error: 0.0291 - val_loss: 0.0120 - val_mean_absolute_error: 0.0873\n",
      "Epoch 187/200\n",
      "92/92 [==============================] - 1s 8ms/step - loss: 0.0022 - mean_absolute_error: 0.0289 - val_loss: 0.0114 - val_mean_absolute_error: 0.0821\n",
      "Epoch 188/200\n",
      "92/92 [==============================] - 1s 7ms/step - loss: 0.0022 - mean_absolute_error: 0.0292 - val_loss: 0.0140 - val_mean_absolute_error: 0.0972\n",
      "Epoch 189/200\n",
      "92/92 [==============================] - 1s 7ms/step - loss: 0.0023 - mean_absolute_error: 0.0300 - val_loss: 0.0116 - val_mean_absolute_error: 0.0840\n",
      "Epoch 190/200\n",
      "92/92 [==============================] - 1s 7ms/step - loss: 0.0023 - mean_absolute_error: 0.0303 - val_loss: 0.0116 - val_mean_absolute_error: 0.0816\n",
      "Epoch 191/200\n",
      "92/92 [==============================] - 1s 7ms/step - loss: 0.0023 - mean_absolute_error: 0.0304 - val_loss: 0.0119 - val_mean_absolute_error: 0.0816\n",
      "Epoch 192/200\n",
      "92/92 [==============================] - 1s 7ms/step - loss: 0.0023 - mean_absolute_error: 0.0306 - val_loss: 0.0114 - val_mean_absolute_error: 0.0822\n",
      "Epoch 193/200\n",
      "92/92 [==============================] - 1s 7ms/step - loss: 0.0023 - mean_absolute_error: 0.0296 - val_loss: 0.0117 - val_mean_absolute_error: 0.0810\n",
      "Epoch 194/200\n",
      "92/92 [==============================] - 1s 7ms/step - loss: 0.0023 - mean_absolute_error: 0.0300 - val_loss: 0.0123 - val_mean_absolute_error: 0.0889\n",
      "Epoch 195/200\n",
      "92/92 [==============================] - 1s 7ms/step - loss: 0.0023 - mean_absolute_error: 0.0305 - val_loss: 0.0116 - val_mean_absolute_error: 0.0847\n",
      "Epoch 196/200\n",
      "92/92 [==============================] - 1s 7ms/step - loss: 0.0022 - mean_absolute_error: 0.0299 - val_loss: 0.0114 - val_mean_absolute_error: 0.0813\n",
      "Epoch 197/200\n",
      "92/92 [==============================] - 1s 7ms/step - loss: 0.0022 - mean_absolute_error: 0.0297 - val_loss: 0.0139 - val_mean_absolute_error: 0.0873\n",
      "Epoch 198/200\n",
      "92/92 [==============================] - 1s 7ms/step - loss: 0.0023 - mean_absolute_error: 0.0302 - val_loss: 0.0114 - val_mean_absolute_error: 0.0811\n",
      "Epoch 199/200\n",
      "92/92 [==============================] - 1s 7ms/step - loss: 0.0022 - mean_absolute_error: 0.0291 - val_loss: 0.0116 - val_mean_absolute_error: 0.0812\n",
      "Epoch 200/200\n",
      "92/92 [==============================] - 1s 7ms/step - loss: 0.0022 - mean_absolute_error: 0.0297 - val_loss: 0.0126 - val_mean_absolute_error: 0.0832\n"
     ]
    }
   ],
   "source": [
    "history = model.fit(X_train, y_train, epochs=200, validation_data=(X_val, y_val))"
   ]
  },
  {
   "cell_type": "code",
   "execution_count": 111,
   "id": "588bd810",
   "metadata": {},
   "outputs": [
    {
     "data": {
      "text/html": [
       "<div>\n",
       "<style scoped>\n",
       "    .dataframe tbody tr th:only-of-type {\n",
       "        vertical-align: middle;\n",
       "    }\n",
       "\n",
       "    .dataframe tbody tr th {\n",
       "        vertical-align: top;\n",
       "    }\n",
       "\n",
       "    .dataframe thead th {\n",
       "        text-align: right;\n",
       "    }\n",
       "</style>\n",
       "<table border=\"1\" class=\"dataframe\">\n",
       "  <thead>\n",
       "    <tr style=\"text-align: right;\">\n",
       "      <th></th>\n",
       "      <th>loss</th>\n",
       "      <th>mean_absolute_error</th>\n",
       "      <th>val_loss</th>\n",
       "      <th>val_mean_absolute_error</th>\n",
       "    </tr>\n",
       "  </thead>\n",
       "  <tbody>\n",
       "    <tr>\n",
       "      <th>0</th>\n",
       "      <td>0.144881</td>\n",
       "      <td>0.266087</td>\n",
       "      <td>0.226487</td>\n",
       "      <td>0.318174</td>\n",
       "    </tr>\n",
       "    <tr>\n",
       "      <th>1</th>\n",
       "      <td>0.019729</td>\n",
       "      <td>0.086866</td>\n",
       "      <td>0.080991</td>\n",
       "      <td>0.175528</td>\n",
       "    </tr>\n",
       "    <tr>\n",
       "      <th>2</th>\n",
       "      <td>0.006685</td>\n",
       "      <td>0.051024</td>\n",
       "      <td>0.045140</td>\n",
       "      <td>0.137676</td>\n",
       "    </tr>\n",
       "    <tr>\n",
       "      <th>3</th>\n",
       "      <td>0.003776</td>\n",
       "      <td>0.037674</td>\n",
       "      <td>0.031583</td>\n",
       "      <td>0.118387</td>\n",
       "    </tr>\n",
       "    <tr>\n",
       "      <th>4</th>\n",
       "      <td>0.003070</td>\n",
       "      <td>0.034288</td>\n",
       "      <td>0.023537</td>\n",
       "      <td>0.107409</td>\n",
       "    </tr>\n",
       "    <tr>\n",
       "      <th>...</th>\n",
       "      <td>...</td>\n",
       "      <td>...</td>\n",
       "      <td>...</td>\n",
       "      <td>...</td>\n",
       "    </tr>\n",
       "    <tr>\n",
       "      <th>195</th>\n",
       "      <td>0.002239</td>\n",
       "      <td>0.029877</td>\n",
       "      <td>0.011442</td>\n",
       "      <td>0.081256</td>\n",
       "    </tr>\n",
       "    <tr>\n",
       "      <th>196</th>\n",
       "      <td>0.002246</td>\n",
       "      <td>0.029725</td>\n",
       "      <td>0.013857</td>\n",
       "      <td>0.087251</td>\n",
       "    </tr>\n",
       "    <tr>\n",
       "      <th>197</th>\n",
       "      <td>0.002262</td>\n",
       "      <td>0.030182</td>\n",
       "      <td>0.011449</td>\n",
       "      <td>0.081098</td>\n",
       "    </tr>\n",
       "    <tr>\n",
       "      <th>198</th>\n",
       "      <td>0.002197</td>\n",
       "      <td>0.029093</td>\n",
       "      <td>0.011567</td>\n",
       "      <td>0.081249</td>\n",
       "    </tr>\n",
       "    <tr>\n",
       "      <th>199</th>\n",
       "      <td>0.002245</td>\n",
       "      <td>0.029684</td>\n",
       "      <td>0.012584</td>\n",
       "      <td>0.083171</td>\n",
       "    </tr>\n",
       "  </tbody>\n",
       "</table>\n",
       "<p>200 rows × 4 columns</p>\n",
       "</div>"
      ],
      "text/plain": [
       "         loss  mean_absolute_error  val_loss  val_mean_absolute_error\n",
       "0    0.144881             0.266087  0.226487                 0.318174\n",
       "1    0.019729             0.086866  0.080991                 0.175528\n",
       "2    0.006685             0.051024  0.045140                 0.137676\n",
       "3    0.003776             0.037674  0.031583                 0.118387\n",
       "4    0.003070             0.034288  0.023537                 0.107409\n",
       "..        ...                  ...       ...                      ...\n",
       "195  0.002239             0.029877  0.011442                 0.081256\n",
       "196  0.002246             0.029725  0.013857                 0.087251\n",
       "197  0.002262             0.030182  0.011449                 0.081098\n",
       "198  0.002197             0.029093  0.011567                 0.081249\n",
       "199  0.002245             0.029684  0.012584                 0.083171\n",
       "\n",
       "[200 rows x 4 columns]"
      ]
     },
     "execution_count": 111,
     "metadata": {},
     "output_type": "execute_result"
    }
   ],
   "source": [
    "df = pd.DataFrame(history.history)\n",
    "df"
   ]
  },
  {
   "cell_type": "code",
   "execution_count": 112,
   "id": "0c28e03d",
   "metadata": {},
   "outputs": [
    {
     "name": "stdout",
     "output_type": "stream",
     "text": [
      "92/92 [==============================] - 1s 4ms/step\n",
      "12/12 [==============================] - 0s 3ms/step\n",
      "12/12 [==============================] - 0s 3ms/step\n"
     ]
    }
   ],
   "source": [
    "train_preds = model.predict(X_train)\n",
    "val_preds = model.predict(X_val)\n",
    "test_preds = model.predict(X_test)"
   ]
  },
  {
   "cell_type": "code",
   "execution_count": 113,
   "id": "353dd1aa",
   "metadata": {},
   "outputs": [
    {
     "data": {
      "text/plain": [
       "<matplotlib.legend.Legend at 0x29893665370>"
      ]
     },
     "execution_count": 113,
     "metadata": {},
     "output_type": "execute_result"
    },
    {
     "data": {
      "image/png": "[encoded data removed]",
      "text/plain": [
       "<Figure size 720x432 with 1 Axes>"
      ]
     },
     "metadata": {
      "needs_background": "light"
     },
     "output_type": "display_data"
    }
   ],
   "source": [
    "plt.figure(figsize=(10, 6))\n",
    "plt.plot(dates_train, y_train[:,0], label = 'Training Observations')\n",
    "plt.plot(dates_train, train_preds[:,0], label = 'Training Predictions')\n",
    "plt.plot(dates_val, y_val[:,0], label = 'Validation Observations')\n",
    "plt.plot(dates_val, val_preds[:,0], label = 'Validation predictions')\n",
    "plt.plot(dates_test, y_test[:,0], label = 'Test Observation')\n",
    "plt.plot(dates_test, test_preds[:,0], label = 'Test Predictions')\n",
    "plt.legend()"
   ]
  },
  {
   "cell_type": "code",
   "execution_count": 114,
   "id": "7c4d44e0",
   "metadata": {},
   "outputs": [
    {
     "data": {
      "text/plain": [
       "<AxesSubplot:>"
      ]
     },
     "execution_count": 114,
     "metadata": {},
     "output_type": "execute_result"
    },
    {
     "data": {
      "image/png": "[encoded data removed]",
      "text/plain": [
       "<Figure size 432x288 with 1 Axes>"
      ]
     },
     "metadata": {
      "needs_background": "light"
     },
     "output_type": "display_data"
    }
   ],
   "source": [
    "df.plot()"
   ]
  },
  {
   "cell_type": "code",
   "execution_count": 115,
   "id": "244f1b28",
   "metadata": {},
   "outputs": [
    {
     "name": "stdout",
     "output_type": "stream",
     "text": [
      "GPUs Available: [PhysicalDevice(name='/physical_device:GPU:0', device_type='GPU')]\n"
     ]
    }
   ],
   "source": [
    "gpus = tf.config.list_physical_devices('GPU')\n",
    "print(\"GPUs Available:\", gpus)"
   ]
  },
  {
   "cell_type": "code",
   "execution_count": 116,
   "id": "79a37ab6",
   "metadata": {},
   "outputs": [
    {
     "data": {
      "text/plain": [
       "'2.10.1'"
      ]
     },
     "execution_count": 116,
     "metadata": {},
     "output_type": "execute_result"
    }
   ],
   "source": [
    "tf.__version__"
   ]
  },
  {
   "cell_type": "code",
   "execution_count": 117,
   "id": "88c2f8ea",
   "metadata": {},
   "outputs": [
    {
     "name": "stdout",
     "output_type": "stream",
     "text": [
      "Num GPUs Available:  1\n"
     ]
    }
   ],
   "source": [
    "print(\"Num GPUs Available: \", len(tf.config.experimental.list_physical_devices('GPU')))"
   ]
  }
 ],
 "metadata": {
  "kernelspec": {
   "display_name": "Python 3 (ipykernel)",
   "language": "python",
   "name": "python3"
  },
  "language_info": {
   "codemirror_mode": {
    "name": "ipython",
    "version": 3
   },
   "file_extension": ".py",
   "mimetype": "text/x-python",
   "name": "python",
   "nbconvert_exporter": "python",
   "pygments_lexer": "ipython3",
   "version": "3.9.6"
  }
 },
 "nbformat": 4,
 "nbformat_minor": 5
}
